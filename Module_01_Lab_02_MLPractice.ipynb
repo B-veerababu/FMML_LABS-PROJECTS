{
  "nbformat": 4,
  "nbformat_minor": 0,
  "metadata": {
    "colab": {
      "provenance": [],
      "include_colab_link": true
    },
    "kernelspec": {
      "name": "python3",
      "display_name": "Python 3"
    },
    "language_info": {
      "name": "python"
    }
  },
  "cells": [
    {
      "cell_type": "markdown",
      "metadata": {
        "id": "view-in-github",
        "colab_type": "text"
      },
      "source": [
        "<a href=\"https://colab.research.google.com/github/B-veerababu/FMML_LABS-PROJECTS/blob/main/Module_01_Lab_02_MLPractice.ipynb\" target=\"_parent\"><img src=\"https://colab.research.google.com/assets/colab-badge.svg\" alt=\"Open In Colab\"/></a>"
      ]
    },
    {
      "cell_type": "markdown",
      "metadata": {
        "id": "3Eu9VZbF01eq"
      },
      "source": [
        "# Machine learning terms and metrics\n",
        "\n",
        "FMML Module 1, Lab 2<br>\n",
        "\n",
        "\n",
        " In this lab, we will show a part of the ML pipeline by extracting features, training and testing"
      ]
    },
    {
      "cell_type": "code",
      "metadata": {
        "id": "8qBvyEem0vLi"
      },
      "source": [
        "import matplotlib.pyplot as plt\n",
        "import numpy as np\n",
        "from sklearn import datasets\n",
        "# set randomseed\n",
        "rng = np.random.default_rng(seed=42)"
      ],
      "execution_count": 1,
      "outputs": []
    },
    {
      "cell_type": "markdown",
      "metadata": {
        "id": "u3t59g5s1HfC"
      },
      "source": [
        "In this lab, we will use the California Housing dataset. There are 20640 samples, each with 8 attributes like income of the block, age of the houses per district etc. The task is to predict the cost of the houses per district.\n",
        "\n",
        "Let us download and examine the dataset."
      ]
    },
    {
      "cell_type": "code",
      "metadata": {
        "id": "8LpqjN991GGJ",
        "colab": {
          "base_uri": "https://localhost:8080/"
        },
        "outputId": "8cb309c0-ace7-47e8-d7d0-44bfa255ec8b"
      },
      "source": [
        " dataset =  datasets.fetch_california_housing()\n",
        " # print(dataset.DESCR)  # uncomment this if you want to know more about this dataset\n",
        " # print(dataset.keys())  # if you want to know what else is there in this dataset\n",
        " dataset.target = dataset.target.astype(np.int) # so that we can classify\n",
        " print(dataset.data.shape)\n",
        " print(dataset.target.shape)"
      ],
      "execution_count": 2,
      "outputs": [
        {
          "output_type": "stream",
          "name": "stdout",
          "text": [
            "(20640, 8)\n",
            "(20640,)\n"
          ]
        },
        {
          "output_type": "stream",
          "name": "stderr",
          "text": [
            "<ipython-input-2-60ae2e9a125e>:4: DeprecationWarning: `np.int` is a deprecated alias for the builtin `int`. To silence this warning, use `int` by itself. Doing this will not modify any behavior and is safe. When replacing `np.int`, you may wish to use e.g. `np.int64` or `np.int32` to specify the precision. If you wish to review your current use, check the release note link for additional information.\n",
            "Deprecated in NumPy 1.20; for more details and guidance: https://numpy.org/devdocs/release/1.20.0-notes.html#deprecations\n",
            "  dataset.target = dataset.target.astype(np.int) # so that we can classify\n"
          ]
        }
      ]
    },
    {
      "cell_type": "markdown",
      "metadata": {
        "id": "iNx4174W5xRg"
      },
      "source": [
        "Here is a function for calculating the 1-nearest neighbours"
      ]
    },
    {
      "cell_type": "code",
      "metadata": {
        "id": "07zpydQj1hIQ"
      },
      "source": [
        "def NN1(traindata, trainlabel, query):\n",
        "  diff  = traindata - query  # find the difference between features. Numpy automatically takes care of the size here\n",
        "  sq = diff*diff # square the differences\n",
        "  dist = sq.sum(1) # add up the squares\n",
        "  label = trainlabel[np.argmin(dist)] # our predicted label is the label of the training data which has the least distance from the query\n",
        "  return label\n",
        "\n",
        "def NN(traindata, trainlabel, testdata):\n",
        "  # we will run nearest neighbour for each sample in the test data\n",
        "  # and collect the predicted classes in an array using list comprehension\n",
        "  predlabel = np.array([NN1(traindata, trainlabel, i) for i in testdata])\n",
        "  return predlabel"
      ],
      "execution_count": 3,
      "outputs": []
    },
    {
      "cell_type": "markdown",
      "metadata": {
        "id": "03JktkfIGaje"
      },
      "source": [
        "We will also define a 'random classifier', which randomly allots labels to each sample"
      ]
    },
    {
      "cell_type": "code",
      "metadata": {
        "id": "fogWAtjyGhAH"
      },
      "source": [
        "def RandomClassifier(traindata, trainlabel, testdata):\n",
        "  # in reality, we don't need these arguments\n",
        "\n",
        "  classes = np.unique(trainlabel)\n",
        "  rints = rng.integers(low=0, high=len(classes), size=len(testdata))\n",
        "  predlabel = classes[rints]\n",
        "  return predlabel"
      ],
      "execution_count": 4,
      "outputs": []
    },
    {
      "cell_type": "markdown",
      "metadata": {
        "id": "1Hjf1KHs7fU5"
      },
      "source": [
        "Let us define a metric 'Accuracy' to see how good our learning algorithm is. Accuracy is the ratio of the number of correctly classified samples to the total number of samples. The higher the accuracy, the better the algorithm."
      ]
    },
    {
      "cell_type": "code",
      "metadata": {
        "id": "ouuCqWU07bz-"
      },
      "source": [
        "def Accuracy(gtlabel, predlabel):\n",
        "  assert len(gtlabel)==len(predlabel), \"Length of the groundtruth labels and predicted labels should be the same\"\n",
        "  correct = (gtlabel==predlabel).sum() # count the number of times the groundtruth label is equal to the predicted label.\n",
        "  return correct/len(gtlabel)"
      ],
      "execution_count": 5,
      "outputs": []
    },
    {
      "cell_type": "markdown",
      "metadata": {
        "id": "4vJFwBFa9Klw"
      },
      "source": [
        "Let us make a function to split the dataset with the desired probability."
      ]
    },
    {
      "cell_type": "code",
      "metadata": {
        "id": "Ko0VzpSM2Tdi"
      },
      "source": [
        "def split(data, label, percent):\n",
        "  # generate a random number for each sample\n",
        "  rnd = rng.random(len(label))\n",
        "  split1 = rnd<percent\n",
        "  split2 = rnd>=percent\n",
        "  split1data = data[split1,:]\n",
        "  split1label = label[split1]\n",
        "  split2data = data[split2,:]\n",
        "  split2label = label[split2]\n",
        "  return split1data, split1label, split2data, split2label"
      ],
      "execution_count": 6,
      "outputs": []
    },
    {
      "cell_type": "markdown",
      "metadata": {
        "id": "AcK3LEAJ_LGC"
      },
      "source": [
        "We will reserve 20% of our dataset as the test set. We will not change this portion throughout our experiments"
      ]
    },
    {
      "cell_type": "code",
      "metadata": {
        "id": "bBZkHBLJ1iU-",
        "colab": {
          "base_uri": "https://localhost:8080/"
        },
        "outputId": "1cf46013-3b8e-41be-e486-922301c39a25"
      },
      "source": [
        "testdata, testlabel, alltraindata, alltrainlabel = split(dataset.data, dataset.target, 20/100)\n",
        "print('Number of test samples = ', len(testlabel))\n",
        "print('Number of other samples = ', len(alltrainlabel))\n",
        "print('Percent of test data = ', len(testlabel)*100/len(dataset.target),'%')"
      ],
      "execution_count": 7,
      "outputs": [
        {
          "output_type": "stream",
          "name": "stdout",
          "text": [
            "Number of test samples =  4144\n",
            "Number of other samples =  16496\n",
            "Percent of test data =  20.07751937984496 %\n"
          ]
        }
      ]
    },
    {
      "cell_type": "markdown",
      "metadata": {
        "id": "a6Ss0Z6IAGNV"
      },
      "source": [
        "## Experiments with splits\n",
        "\n",
        "Let us reserve some of our train data as a validation set"
      ]
    },
    {
      "cell_type": "code",
      "metadata": {
        "id": "WFew2iry_7W7"
      },
      "source": [
        "traindata, trainlabel, valdata, vallabel = split(alltraindata, alltrainlabel, 75/100)"
      ],
      "execution_count": 8,
      "outputs": []
    },
    {
      "cell_type": "markdown",
      "metadata": {
        "id": "60hiu4clFN1i"
      },
      "source": [
        "What is the accuracy of our classifiers on the train dataset?"
      ]
    },
    {
      "cell_type": "code",
      "metadata": {
        "id": "DBlZDTHUFTZx",
        "colab": {
          "base_uri": "https://localhost:8080/"
        },
        "outputId": "abf98555-b122-4519-b2a3-d87af37df7e5"
      },
      "source": [
        "trainpred = NN(traindata, trainlabel, traindata)\n",
        "trainAccuracy = Accuracy(trainlabel, trainpred)\n",
        "print(\"Train accuracy using nearest neighbour is \", trainAccuracy)\n",
        "\n",
        "trainpred = RandomClassifier(traindata, trainlabel, traindata)\n",
        "trainAccuracy = Accuracy(trainlabel, trainpred)\n",
        "print(\"Train accuracy using random classifier is \", trainAccuracy)"
      ],
      "execution_count": 9,
      "outputs": [
        {
          "output_type": "stream",
          "name": "stdout",
          "text": [
            "Train accuracy using nearest neighbour is  1.0\n",
            "Train accuracy using random classifier is  0.164375808538163\n"
          ]
        }
      ]
    },
    {
      "cell_type": "markdown",
      "metadata": {
        "id": "7h08-9gJDtSy"
      },
      "source": [
        "For nearest neighbour, the train accuracy is always 1. The accuracy of the random classifier is close to 1/(number of classes) which is 0.1666 in our case.\n",
        "\n",
        "Let us predict the labels for our validation set and get the accuracy"
      ]
    },
    {
      "cell_type": "code",
      "metadata": {
        "id": "4h7bXoW_2H3v",
        "colab": {
          "base_uri": "https://localhost:8080/"
        },
        "outputId": "54a1d338-02d1-4125-c4ee-57889f34a9c0"
      },
      "source": [
        "valpred = NN(traindata, trainlabel, valdata)\n",
        "valAccuracy = Accuracy(vallabel, valpred)\n",
        "print(\"Validation accuracy using nearest neighbour is \", valAccuracy)\n",
        "\n",
        "valpred = RandomClassifier(traindata, trainlabel, valdata)\n",
        "valAccuracy = Accuracy(vallabel, valpred)\n",
        "print(\"Validation accuracy using random classifier is \", valAccuracy)"
      ],
      "execution_count": 10,
      "outputs": [
        {
          "output_type": "stream",
          "name": "stdout",
          "text": [
            "Validation accuracy using nearest neighbour is  0.34108527131782945\n",
            "Validation accuracy using random classifier is  0.1688468992248062\n"
          ]
        }
      ]
    },
    {
      "cell_type": "markdown",
      "metadata": {
        "id": "py9bLguFEjfg"
      },
      "source": [
        "Validation accuracy of nearest neighbour is considerably less than its train accuracy while the validation accuracy of random classifier is the same. However, the validation accuracy of nearest neighbour is twice that of the random classifier.\n",
        "\n",
        "Now let us try another random split and check the validation accuracy"
      ]
    },
    {
      "cell_type": "code",
      "metadata": {
        "id": "ujm3cyYzEntE",
        "colab": {
          "base_uri": "https://localhost:8080/"
        },
        "outputId": "7671f850-9b25-4bd9-c924-aae22c40bb0e"
      },
      "source": [
        "traindata, trainlabel, valdata, vallabel = split(alltraindata, alltrainlabel, 75/100)\n",
        "valpred = NN(traindata, trainlabel, valdata)\n",
        "valAccuracy = Accuracy(vallabel, valpred)\n",
        "print(\"Validation accuracy of nearest neighbour is \", valAccuracy)"
      ],
      "execution_count": 11,
      "outputs": [
        {
          "output_type": "stream",
          "name": "stdout",
          "text": [
            "Validation accuracy of nearest neighbour is  0.34048257372654156\n"
          ]
        }
      ]
    },
    {
      "cell_type": "markdown",
      "metadata": {
        "id": "oSOx7U83EKie"
      },
      "source": [
        "You can run the above cell multiple times to try with different random splits.\n",
        "We notice that the accuracy is different for each run, but close together.\n",
        "\n",
        "Now let us compare it with the accuracy we get on the test dataset."
      ]
    },
    {
      "cell_type": "code",
      "metadata": {
        "id": "PNEZ5ToYBEDW",
        "colab": {
          "base_uri": "https://localhost:8080/"
        },
        "outputId": "051ce439-5f67-4512-f176-60413c48628e"
      },
      "source": [
        "testpred = NN(alltraindata, alltrainlabel, testdata)\n",
        "testAccuracy = Accuracy(testlabel, testpred)\n",
        "print('Test accuracy is ', testAccuracy)"
      ],
      "execution_count": 12,
      "outputs": [
        {
          "output_type": "stream",
          "name": "stdout",
          "text": [
            "Test accuracy is  0.34917953667953666\n"
          ]
        }
      ]
    },
    {
      "cell_type": "markdown",
      "metadata": {
        "id": "w3dGD531K3gH"
      },
      "source": [
        "### Try it out for yourself and answer:\n",
        "1. How is the accuracy of the validation set affected if we increase the percentage of validation set? What happens when we reduce it?\n",
        "2. How does the size of the train and validation set affect how well we can predict the accuracy on the test set using the validation set?\n",
        "3. What do you think is a good percentage to reserve for the validation set so that thest two factors are balanced?\n",
        "\n",
        "Answer for both nearest neighbour and random classifier. You can note down the values for your experiments and plot a graph using  <a href=https://matplotlib.org/stable/gallery/lines_bars_and_markers/step_demo.html#sphx-glr-gallery-lines-bars-and-markers-step-demo-py>plt.plot<href>. Check also for extreme values for splits, like 99.9% or 0.1%"
      ]
    },
    {
      "cell_type": "markdown",
      "metadata": {
        "id": "PnYvkAZLQY7h"
      },
      "source": [
        "## Multiple Splits\n",
        "\n",
        "One way to get more accurate estimates for the test accuracy is by using <b>crossvalidation</b>. Here, we will try a simple version, where we do multiple train/val splits and take the average of validation accuracies as the test accuracy estimation. Here is a function for doing this. Note that this function will take a long time to execute."
      ]
    },
    {
      "cell_type": "code",
      "metadata": {
        "id": "E4nGCUQXBTzo"
      },
      "source": [
        "# you can use this function for random classifier also\n",
        "def AverageAccuracy(alldata, alllabel, splitpercent, iterations, classifier=NN):\n",
        "  accuracy = 0\n",
        "  for ii in range(iterations):\n",
        "    traindata, trainlabel, valdata, vallabel = split(alldata, alllabel, splitpercent)\n",
        "    valpred = classifier(traindata, trainlabel, valdata)\n",
        "    accuracy += Accuracy(vallabel, valpred)\n",
        "  return accuracy/iterations # average of all accuracies"
      ],
      "execution_count": 13,
      "outputs": []
    },
    {
      "cell_type": "code",
      "metadata": {
        "id": "H3qtNar7Bbik",
        "colab": {
          "base_uri": "https://localhost:8080/"
        },
        "outputId": "e583ebe7-4715-446d-e324-0f085bcf8727"
      },
      "source": [
        "print('Average validation accuracy is ', AverageAccuracy(alltraindata, alltrainlabel, 75/100, 10, classifier=NN))\n",
        "testpred = NN(alltraindata, alltrainlabel, testdata)\n",
        "print('test accuracy is ',Accuracy(testlabel, testpred) )"
      ],
      "execution_count": 14,
      "outputs": [
        {
          "output_type": "stream",
          "name": "stdout",
          "text": [
            "Average validation accuracy is  0.33584635395170215\n",
            "test accuracy is  0.34917953667953666\n"
          ]
        }
      ]
    },
    {
      "cell_type": "markdown",
      "metadata": {
        "id": "33GIn4x5VH-d"
      },
      "source": [
        "This is a very simple way of doing cross-validation. There are many well-known algorithms for cross-validation, like k-fold cross-validation, leave-one-out etc. This will be covered in detail in a later module. For more information about cross-validation, check <a href=https://en.wikipedia.org/wiki/Cross-validation_(statistics)>Cross-validatioin (Wikipedia)</a>\n",
        "\n",
        "### Questions\n",
        "1. Does averaging the validation accuracy across multiple splits give more consistent results?\n",
        "Yes, averaging the validation accuracy across multiple splits of your dataset can provide more consistent and reliable results when assessing the performance of a machine learning model. This technique is commonly known as cross-validation, and it helps to address issues related to the random partitioning of data into training and validation sets.\n",
        "\n",
        "Here's why averaging validation accuracy across multiple splits is beneficial:\n",
        "\n",
        "1. **Reducing Variance**: By performing multiple splits (often called \"folds\") of the data and calculating validation accuracy separately for each fold, you can reduce the impact of random chance. If your dataset has inherent variability, using a single train-test split might lead to results that are not representative of the model's true performance. Cross-validation provides a more robust estimate of performance.\n",
        "\n",
        "2. **More Comprehensive Evaluation**: Cross-validation allows you to evaluate the model on different subsets of the data. Each fold serves as a validation set, while the remaining folds are used for training. This provides a more comprehensive assessment of how well the model generalizes to unseen data.\n",
        "\n",
        "3. **Detecting Overfitting**: Cross-validation can help you detect overfitting. If your model performs well on the training data but poorly on validation data across multiple folds, it may indicate that the model is overfitting the data.\n",
        "\n",
        "4. **Parameter Tuning**: Cross-validation is often used in hyperparameter tuning (e.g., grid search or randomized search). It helps you select the best hyperparameters by assessing their impact on model performance across different data splits.\n",
        "\n",
        "5. **More Confidence in Results**: Averaging results from multiple folds provides a more stable estimate of performance and gives you greater confidence in the reported accuracy or other evaluation metrics.\n",
        "\n",
        "Common types of cross-validation include k-fold cross-validation (where the data is divided into k subsets or \"folds\"), stratified k-fold cross-validation (ensuring class distribution is maintained in each fold), and leave-one-out cross-validation (each data point serves as a test sample once).\n",
        "\n",
        "In summary, averaging validation accuracy across multiple splits (cross-validation) is a best practice in machine learning because it provides more consistent and reliable performance estimates, which are crucial for making informed decisions about model selection and hyperparameter tuning.\n",
        "2. Does it give more accurate estimate of test accuracy?\n",
        "\n",
        "Cross-validation, while valuable for assessing the performance of a machine learning model and selecting appropriate hyperparameters, does not directly provide a more accurate estimate of the model's performance on unseen, real-world data. Instead, it provides a more reliable estimate of how the model might generalize to new data drawn from the same distribution as your training data. Here's why:\n",
        "\n",
        "1. **Cross-Validation vs. Test Set**: Cross-validation estimates the model's performance on different subsets of your training data, but these subsets are still drawn from the same dataset that was used for training. It doesn't evaluate the model on entirely new, unseen data, as the test set does.\n",
        "\n",
        "2. **Test Set Represents Real-World Scenario**: The test set serves as a proxy for how well your model will perform in a real-world scenario when presented with data it has never encountered before. It helps assess the model's generalization to new and unknown examples.\n",
        "\n",
        "3. **Data Variability**: Cross-validation aims to reduce the impact of random variability in a single train-test split, but it doesn't address issues related to data distribution shifts, which can occur when your model encounters different data sources or environments.\n",
        "\n",
        "4. **Bias and Variance**: Cross-validation can help you estimate the bias and variance of your model, but it doesn't directly measure how well the model will perform in a new, independent context. It provides insights into how well your model fits your training data, but it may not reveal issues that arise with entirely new data distributions.\n",
        "\n",
        "In practice, it's important to use both cross-validation and a separate test set to obtain a comprehensive understanding of your model's performance. Cross-validation helps you fine-tune your model and hyperparameters, while the test set provides a final evaluation of how well your model is expected to perform in real-world situations. This approach ensures that your model's performance estimates are both reliable and indicative of its generalization capabilities.\n",
        "3. What is the effect of the number of iterations on the estimate? Do we get a better estimate with higher iterations?\n",
        "\n",
        "The number of iterations or epochs in the training of a machine learning model can significantly impact the model's performance and the accuracy of its estimates. However, it's not necessarily the case that higher iterations always lead to a better estimate. The relationship between the number of iterations and model performance can vary depending on several factors:\n",
        "\n",
        "1. **Underfitting and Overfitting**: The number of iterations is closely related to the risk of underfitting or overfitting. If you have too few iterations, your model may underfit the data and not capture complex patterns. On the other hand, if you have too many iterations, your model might overfit the training data, capturing noise and leading to poor generalization on unseen data.\n",
        "\n",
        "2. **Convergence**: Many machine learning algorithms, especially those based on optimization techniques like gradient descent, converge to an optimal solution with a sufficient number of iterations. After a certain point, increasing the number of iterations may not significantly improve the model's performance, as it has already reached a stable solution.\n",
        "\n",
        "3. **Computational Resources**: Training with a high number of iterations can be computationally expensive, especially for deep learning models. It's essential to balance the computational cost with the expected performance gains.\n",
        "\n",
        "4. **Early Stopping**: To mitigate the risk of overfitting, practitioners often use techniques like early stopping, where the training is halted when the model's performance on a validation set starts to degrade. This approach prevents excessive training.\n",
        "\n",
        "5. **Hyperparameter Tuning**: The optimal number of iterations can depend on other hyperparameters, such as learning rate, batch size, and network architecture. It's common to perform hyperparameter tuning to find the best combination of settings, including the number of iterations.\n",
        "\n",
        "In summary, the effect of the number of iterations on the estimate depends on the specific machine learning algorithm, dataset, and problem at hand. It's not a guarantee that higher iterations will lead to a better estimate, as there's a trade-off between underfitting and overfitting. It's essential to experiment with different iteration settings, monitor validation performance, and potentially use techniques like early stopping and hyperparameter tuning to determine the optimal number of iterations for your specific problem.\n",
        "4. Consider the results you got for the previous questions. Can we deal with a very small train dataset or validation dataset by increasing the iterations?\n",
        "\n",
        "Increasing the number of iterations (or epochs) in training can help to a certain extent when dealing with a very small training dataset, but it may not fully mitigate the limitations of a small dataset. Here are some considerations:\n",
        "\n",
        "**Advantages of Increasing Iterations with a Small Training Dataset:**\n",
        "\n",
        "1. **Overfitting Mitigation**: Small datasets are more prone to overfitting because the model may learn to memorize the limited examples rather than generalize. Increasing the number of iterations can provide more opportunities for the model to see and adapt to the data, potentially reducing overfitting.\n",
        "\n",
        "2. **Improved Training**: With more iterations, the model may converge to a better solution within the constraints of the available data. This can lead to better performance on the training set.\n",
        "\n",
        "**Limitations and Considerations:**\n",
        "\n",
        "1. **Limited Diversity**: Small datasets inherently have limited diversity and may not fully represent the complexity and variability of the real-world problem. Increasing iterations cannot create more diverse examples; it can only help the model better utilize the existing data.\n",
        "\n",
        "2. **Risk of Memorization**: Even with increased iterations, there's a risk that the model may still memorize the training data, especially if the dataset is extremely small. Memorization can lead to poor generalization to new, unseen data.\n",
        "\n",
        "3. **Validation Data**: If the validation dataset is also very small, increasing iterations might not be as effective because the model's ability to generalize to unseen data depends on the quality and diversity of the validation set.\n",
        "\n",
        "4. **Data Augmentation**: In cases of small datasets, it's often more effective to apply data augmentation techniques, which artificially increase the effective size of the training dataset by creating variations of existing examples. Data augmentation can help improve model generalization even with a limited amount of original data.\n",
        "\n",
        "In practice, when dealing with small datasets, it's essential to strike a balance between increasing iterations, applying regularization techniques (e.g., dropout, weight decay), using data augmentation, and monitoring the model's performance on a separate validation set. Combining these strategies can help improve the model's performance and mitigate the challenges posed by a small training dataset."
      ]
    }
  ]
}